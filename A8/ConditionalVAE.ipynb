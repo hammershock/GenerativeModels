{
 "cells": [
  {
   "cell_type": "markdown",
   "source": [
    "### A8: Generative Models 生成式模型\n",
    "------\n",
    "\n",
    "authored by `张瀚墨2021213368`\n",
    "github：`hammershock`\n",
    "\n",
    "------\n",
    "\n",
    "- 在上个章节中，我们复现了自动编码器及其变种。`自动编码机(AutoEncoders)`通过学习y=x的恒等变换实现在无监督训练自动提取特征。自动编码机的变种，包括`稀疏自动编码机（SparseAEs）`、`去噪自动编码机（DenoisingAEs）`，通过训练技巧提升了编码的稀疏性和鲁棒性。这一类常常被用于特征提取和降维任务。但是对于生成任务而言，他们并不合适，原因在于原始数据分布在编码器复杂非线性变换的投射下未必是规则的，这不利于我们在生成采样时令解码器得到有意义的结果。\n",
    "- 变分自动编码机（VAE），借鉴了贝叶斯方法中的变分推断技术，在训练模型学习恒等变换的同时通过引入对编码空间的KL散度进行正则化，使得编码空间在编码过程中保持良好的规范性，有利于在编码空间的采样与插值。\n",
    "- VAE也可以实现一种有监督的变种：条件变分自动编码机（ConditionalVAE，CVAE），可引入标签数据，实现有标签的生成任务。\n",
    "\n",
    "VAE的原理：\n",
    "- 首先，它在AutoEncoder的基础上，假定编码器的结果是一个高斯分布，用于近似后验条件分布P(z|x)，前向传播时对它的均值与方差进行预测。\n",
    "- VAEs在训练时采用重参数化技巧，计算z=mu + std * eps, （eps从高斯分布上采样得到），使得梯度可以顺利回传至编码器。\n",
    "- 使用重构误差（y与x的误差）和编码空间的KL散度损失同时对模型进行约束。\n",
    "\n",
    "本实验工作内容如下：\n",
    "- 以`CIFAR-10`、`MNIST`、`fashion_mnist`、`SVHN`和`CelebA`数据集为例，展示条件变分自动编码机（ConditionalVAE，CVAE）的训练评估和用于生成任务时的插值与采样\n",
    "- 提供了美丽的UI界面，用于展示潜在空间的连续性\n",
    "- 复现了CVAE作为贝叶斯模型，在训练时遇到的“后验坍缩”问题\n",
    "\n",
    "ps.如果去掉模型中的标签嵌入，就可以看作是不包含条件的普通VAE。这里就不给出普通VAE的实现了"
   ],
   "metadata": {
    "collapsed": false
   },
   "id": "fabeff36a9c2e06d"
  },
  {
   "cell_type": "markdown",
   "source": [
    "☀️运行demo app☀️:"
   ],
   "metadata": {
    "collapsed": false
   },
   "id": "7aa92b5a84ca61d2"
  },
  {
   "cell_type": "code",
   "execution_count": 23,
   "outputs": [],
   "source": [
    "!python app.py"
   ],
   "metadata": {
    "collapsed": false,
    "ExecuteTime": {
     "end_time": "2023-12-22T07:47:04.786080826Z",
     "start_time": "2023-12-22T07:47:02.174006282Z"
    }
   },
   "id": "466a0a26ed5c40ad"
  },
  {
   "cell_type": "markdown",
   "source": [
    "在实验开始之前，先看效果展示：\n",
    "![demo_app1.gif](assets%2Fdemo_app1.gif)\n",
    "\n",
    "![demo_app2.gif](assets%2Fdemo_app2.gif)\n",
    "\n",
    "![demo_app3.gif](assets%2Fdemo_app3.gif)\n",
    "\n",
    "![demo_app4.gif](assets%2Fdemo_app4.gif)\n",
    "\n",
    "![demo_app5.gif](assets%2Fdemo_app5.gif)"
   ],
   "metadata": {
    "collapsed": false
   },
   "id": "84bd66a091affeec"
  },
  {
   "cell_type": "markdown",
   "source": [
    "### 零、安装依赖"
   ],
   "metadata": {
    "collapsed": false
   },
   "id": "b739c78f36d7d97f"
  },
  {
   "cell_type": "code",
   "execution_count": 1,
   "outputs": [
    {
     "name": "stdout",
     "output_type": "stream",
     "text": [
      "Requirement already satisfied: torch in ./venv/lib/python3.11/site-packages (2.1.2)\r\n",
      "Requirement already satisfied: torchvision in ./venv/lib/python3.11/site-packages (0.16.2)\r\n",
      "Requirement already satisfied: filelock in ./venv/lib/python3.11/site-packages (from torch) (3.13.1)\r\n",
      "Requirement already satisfied: typing-extensions in ./venv/lib/python3.11/site-packages (from torch) (4.9.0)\r\n",
      "Requirement already satisfied: sympy in ./venv/lib/python3.11/site-packages (from torch) (1.12)\r\n",
      "Requirement already satisfied: networkx in ./venv/lib/python3.11/site-packages (from torch) (3.2.1)\r\n",
      "Requirement already satisfied: jinja2 in ./venv/lib/python3.11/site-packages (from torch) (3.1.2)\r\n",
      "Requirement already satisfied: fsspec in ./venv/lib/python3.11/site-packages (from torch) (2023.12.2)\r\n",
      "Requirement already satisfied: nvidia-cuda-nvrtc-cu12==12.1.105 in ./venv/lib/python3.11/site-packages (from torch) (12.1.105)\r\n",
      "Requirement already satisfied: nvidia-cuda-runtime-cu12==12.1.105 in ./venv/lib/python3.11/site-packages (from torch) (12.1.105)\r\n",
      "Requirement already satisfied: nvidia-cuda-cupti-cu12==12.1.105 in ./venv/lib/python3.11/site-packages (from torch) (12.1.105)\r\n",
      "Requirement already satisfied: nvidia-cudnn-cu12==8.9.2.26 in ./venv/lib/python3.11/site-packages (from torch) (8.9.2.26)\r\n",
      "Requirement already satisfied: nvidia-cublas-cu12==12.1.3.1 in ./venv/lib/python3.11/site-packages (from torch) (12.1.3.1)\r\n",
      "Requirement already satisfied: nvidia-cufft-cu12==11.0.2.54 in ./venv/lib/python3.11/site-packages (from torch) (11.0.2.54)\r\n",
      "Requirement already satisfied: nvidia-curand-cu12==10.3.2.106 in ./venv/lib/python3.11/site-packages (from torch) (10.3.2.106)\r\n",
      "Requirement already satisfied: nvidia-cusolver-cu12==11.4.5.107 in ./venv/lib/python3.11/site-packages (from torch) (11.4.5.107)\r\n",
      "Requirement already satisfied: nvidia-cusparse-cu12==12.1.0.106 in ./venv/lib/python3.11/site-packages (from torch) (12.1.0.106)\r\n",
      "Requirement already satisfied: nvidia-nccl-cu12==2.18.1 in ./venv/lib/python3.11/site-packages (from torch) (2.18.1)\r\n",
      "Requirement already satisfied: nvidia-nvtx-cu12==12.1.105 in ./venv/lib/python3.11/site-packages (from torch) (12.1.105)\r\n",
      "Requirement already satisfied: triton==2.1.0 in ./venv/lib/python3.11/site-packages (from torch) (2.1.0)\r\n",
      "Requirement already satisfied: nvidia-nvjitlink-cu12 in ./venv/lib/python3.11/site-packages (from nvidia-cusolver-cu12==11.4.5.107->torch) (12.3.101)\r\n",
      "Requirement already satisfied: numpy in ./venv/lib/python3.11/site-packages (from torchvision) (1.26.2)\r\n",
      "Requirement already satisfied: requests in ./venv/lib/python3.11/site-packages (from torchvision) (2.31.0)\r\n",
      "Requirement already satisfied: pillow!=8.3.*,>=5.3.0 in ./venv/lib/python3.11/site-packages (from torchvision) (10.1.0)\r\n",
      "Requirement already satisfied: MarkupSafe>=2.0 in ./venv/lib/python3.11/site-packages (from jinja2->torch) (2.1.3)\r\n",
      "Requirement already satisfied: charset-normalizer<4,>=2 in ./venv/lib/python3.11/site-packages (from requests->torchvision) (3.3.2)\r\n",
      "Requirement already satisfied: idna<4,>=2.5 in ./venv/lib/python3.11/site-packages (from requests->torchvision) (3.6)\r\n",
      "Requirement already satisfied: urllib3<3,>=1.21.1 in ./venv/lib/python3.11/site-packages (from requests->torchvision) (2.1.0)\r\n",
      "Requirement already satisfied: certifi>=2017.4.17 in ./venv/lib/python3.11/site-packages (from requests->torchvision) (2023.11.17)\r\n",
      "Requirement already satisfied: mpmath>=0.19 in ./venv/lib/python3.11/site-packages (from sympy->torch) (1.3.0)\r\n",
      "\r\n",
      "\u001B[1m[\u001B[0m\u001B[34;49mnotice\u001B[0m\u001B[1;39;49m]\u001B[0m\u001B[39;49m A new release of pip is available: \u001B[0m\u001B[31;49m23.2.1\u001B[0m\u001B[39;49m -> \u001B[0m\u001B[32;49m23.3.2\u001B[0m\r\n",
      "\u001B[1m[\u001B[0m\u001B[34;49mnotice\u001B[0m\u001B[1;39;49m]\u001B[0m\u001B[39;49m To update, run: \u001B[0m\u001B[32;49mpip install --upgrade pip\u001B[0m\r\n",
      "Requirement already satisfied: numpy in ./venv/lib/python3.11/site-packages (1.26.2)\r\n",
      "\r\n",
      "\u001B[1m[\u001B[0m\u001B[34;49mnotice\u001B[0m\u001B[1;39;49m]\u001B[0m\u001B[39;49m A new release of pip is available: \u001B[0m\u001B[31;49m23.2.1\u001B[0m\u001B[39;49m -> \u001B[0m\u001B[32;49m23.3.2\u001B[0m\r\n",
      "\u001B[1m[\u001B[0m\u001B[34;49mnotice\u001B[0m\u001B[1;39;49m]\u001B[0m\u001B[39;49m To update, run: \u001B[0m\u001B[32;49mpip install --upgrade pip\u001B[0m\r\n",
      "Requirement already satisfied: matplotlib in ./venv/lib/python3.11/site-packages (3.8.2)\r\n",
      "Requirement already satisfied: contourpy>=1.0.1 in ./venv/lib/python3.11/site-packages (from matplotlib) (1.2.0)\r\n",
      "Requirement already satisfied: cycler>=0.10 in ./venv/lib/python3.11/site-packages (from matplotlib) (0.12.1)\r\n",
      "Requirement already satisfied: fonttools>=4.22.0 in ./venv/lib/python3.11/site-packages (from matplotlib) (4.47.0)\r\n",
      "Requirement already satisfied: kiwisolver>=1.3.1 in ./venv/lib/python3.11/site-packages (from matplotlib) (1.4.5)\r\n",
      "Requirement already satisfied: numpy<2,>=1.21 in ./venv/lib/python3.11/site-packages (from matplotlib) (1.26.2)\r\n",
      "Requirement already satisfied: packaging>=20.0 in ./venv/lib/python3.11/site-packages (from matplotlib) (23.2)\r\n",
      "Requirement already satisfied: pillow>=8 in ./venv/lib/python3.11/site-packages (from matplotlib) (10.1.0)\r\n",
      "Requirement already satisfied: pyparsing>=2.3.1 in ./venv/lib/python3.11/site-packages (from matplotlib) (3.1.1)\r\n",
      "Requirement already satisfied: python-dateutil>=2.7 in ./venv/lib/python3.11/site-packages (from matplotlib) (2.8.2)\r\n",
      "Requirement already satisfied: six>=1.5 in ./venv/lib/python3.11/site-packages (from python-dateutil>=2.7->matplotlib) (1.16.0)\r\n",
      "\r\n",
      "\u001B[1m[\u001B[0m\u001B[34;49mnotice\u001B[0m\u001B[1;39;49m]\u001B[0m\u001B[39;49m A new release of pip is available: \u001B[0m\u001B[31;49m23.2.1\u001B[0m\u001B[39;49m -> \u001B[0m\u001B[32;49m23.3.2\u001B[0m\r\n",
      "\u001B[1m[\u001B[0m\u001B[34;49mnotice\u001B[0m\u001B[1;39;49m]\u001B[0m\u001B[39;49m To update, run: \u001B[0m\u001B[32;49mpip install --upgrade pip\u001B[0m\r\n",
      "Requirement already satisfied: tqdm in ./venv/lib/python3.11/site-packages (4.66.1)\r\n",
      "\r\n",
      "\u001B[1m[\u001B[0m\u001B[34;49mnotice\u001B[0m\u001B[1;39;49m]\u001B[0m\u001B[39;49m A new release of pip is available: \u001B[0m\u001B[31;49m23.2.1\u001B[0m\u001B[39;49m -> \u001B[0m\u001B[32;49m23.3.2\u001B[0m\r\n",
      "\u001B[1m[\u001B[0m\u001B[34;49mnotice\u001B[0m\u001B[1;39;49m]\u001B[0m\u001B[39;49m To update, run: \u001B[0m\u001B[32;49mpip install --upgrade pip\u001B[0m\r\n"
     ]
    }
   ],
   "source": [
    "!pip install torch torchvision\n",
    "!pip install numpy\n",
    "!pip install matplotlib\n",
    "!pip install tqdm"
   ],
   "metadata": {
    "collapsed": false,
    "ExecuteTime": {
     "end_time": "2023-12-20T16:28:06.897345334Z",
     "start_time": "2023-12-20T16:28:02.819159088Z"
    }
   },
   "id": "ed541b1af02daf73"
  },
  {
   "cell_type": "markdown",
   "source": [
    "### 一、导入模块"
   ],
   "metadata": {
    "collapsed": false
   },
   "id": "9d3d1570b1d70a00"
  },
  {
   "cell_type": "code",
   "execution_count": 1,
   "id": "initial_id",
   "metadata": {
    "collapsed": true,
    "ExecuteTime": {
     "end_time": "2023-12-22T04:40:56.186601473Z",
     "start_time": "2023-12-22T04:40:54.502779244Z"
    }
   },
   "outputs": [],
   "source": [
    "import os\n",
    "from enum import Enum\n",
    "\n",
    "import numpy as np\n",
    "import matplotlib.pyplot as plt\n",
    "import torch\n",
    "import torch.nn as nn\n",
    "import torch.optim as optim\n",
    "from torch.utils.tensorboard import SummaryWriter\n",
    "import torchvision\n",
    "import torchvision.transforms as transforms\n",
    "from torch.utils.data import DataLoader\n",
    "from tqdm import tqdm"
   ]
  },
  {
   "cell_type": "code",
   "execution_count": 17,
   "outputs": [],
   "source": [
    "class ConditionalConvVAE(nn.Module):\n",
    "    \"\"\"\n",
    "    条件全卷积VAE变分自动编码器\n",
    "    \"\"\"\n",
    "    NAME = 'ConditionalConvVAE'\n",
    "    \n",
    "    def __init__(self, potential_dim, channels, num_classes=10):\n",
    "        super(ConditionalConvVAE, self).__init__()\n",
    "        self.potential_dim = potential_dim\n",
    "        self.channels = channels\n",
    "        \n",
    "        # 对类别标签进行编码的线性层\n",
    "        self.label_embedding = nn.Embedding(num_classes, num_classes)\n",
    "        \n",
    "        # 卷积输出形状：\n",
    "        # output_size = [(input_size - kernel_size + 2 * padding)/stride] + 1\n",
    "        # 反卷积输出形状：\n",
    "        # output_size = (input_size - 1) * stride -2 * padding + kernel_Size + output_padding\n",
    "        self.encoder = nn.Sequential(\n",
    "            nn.Conv2d(channels + num_classes, 128, kernel_size=3, stride=2, padding=1),  # 16\n",
    "            nn.ReLU(),\n",
    "            nn.Conv2d(128, 128, kernel_size=3, stride=2, padding=1),\n",
    "            nn.ReLU(),  # 8\n",
    "            nn.Conv2d(128, 128, kernel_size=3, stride=2, padding=1),\n",
    "            nn.ReLU(),  # 4\n",
    "            nn.Conv2d(128, 128, kernel_size=3, stride=2, padding=1),\n",
    "            nn.ReLU(),  # 2\n",
    "            nn.Conv2d(128, 128, kernel_size=3, stride=2, padding=1),\n",
    "            nn.ReLU(),  # 1\n",
    "            nn.Flatten(),\n",
    "        )\n",
    "        \n",
    "        output_shape = (128, 1, 1)\n",
    "        output_dim = output_shape[0] * output_shape[1] * output_shape[2]\n",
    "        \n",
    "        self.enc_mu = nn.Linear(output_dim, potential_dim)     # 均值\n",
    "        self.enc_log_var = nn.Linear(output_dim, potential_dim) # 对数方差\n",
    "        # 解码器\n",
    "        self.decoder_fc = nn.Linear(potential_dim + num_classes, output_dim)\n",
    "        \n",
    "        self.decoder = nn.Sequential(\n",
    "            nn.Unflatten(1, output_shape),  # 1\n",
    "            nn.ConvTranspose2d(128, 128, kernel_size=3, stride=2, padding=1, output_padding=1),\n",
    "            nn.ReLU(),  # 2\n",
    "            nn.ConvTranspose2d(128, 128, kernel_size=3, stride=2, padding=1, output_padding=1),\n",
    "            nn.ReLU(),  # 4\n",
    "            nn.ConvTranspose2d(128, 128, kernel_size=3, stride=2, padding=1, output_padding=1),\n",
    "            nn.ReLU(),  # 8\n",
    "            nn.ConvTranspose2d(128, 128, kernel_size=3, stride=2, padding=1, output_padding=1),\n",
    "            nn.ReLU(),  # 16\n",
    "            nn.ConvTranspose2d(128, channels, kernel_size=3, stride=2, padding=1, output_padding=1), \n",
    "            # nn.AdaptiveAvgPool2d((178, 218)),\n",
    "            nn.Sigmoid()  # 32\n",
    "        )\n",
    "\n",
    "    def encode(self, x, labels):\n",
    "        # 将标签嵌入到与图像相同的维度\n",
    "        # 如果不添加标签嵌入，就可以看作是不包含条件的普通VAE\n",
    "        labels = self.label_embedding(labels).unsqueeze(2).unsqueeze(3)  # (128, 10, 1, 1)\n",
    "        labels = labels.expand(labels.size(0), labels.size(1), x.size(2), x.size(3))  # (128, 10, 32, 32)\n",
    "        \n",
    "        # 将标签和图像连接起来\n",
    "        x = torch.cat((x, labels), dim=1)  # (128, 11, 32, 32)\n",
    "        \n",
    "        # 传入编码器\n",
    "        x = self.encoder(x)\n",
    "        mu = self.enc_mu(x)\n",
    "        log_var = self.enc_log_var(x)\n",
    "        \n",
    "        # 重参数化\n",
    "        std = torch.exp(0.5*log_var)\n",
    "        eps = torch.randn_like(std)\n",
    "        z = mu + eps * std\n",
    "        \n",
    "        return z, mu, log_var\n",
    "\n",
    "    def decode(self, z, labels):\n",
    "        # 将标签嵌入并与潜在向量连接起来\n",
    "        labels = self.label_embedding(labels)\n",
    "        z = torch.cat((z, labels), dim=1)\n",
    "\n",
    "        # 传入解码器\n",
    "        x = self.decoder_fc(z)\n",
    "        x = self.decoder(x)\n",
    "        return x\n",
    "\n",
    "    def forward(self, x, labels):\n",
    "        z, mu, log_var = self.encode(x, labels)\n",
    "        reconstructed_x = self.decode(z, labels)\n",
    "        return reconstructed_x, mu, log_var\n",
    "\n",
    "\n",
    "# 定义损失函数\n",
    "def vae_loss(recon_x, x, mu, log_var):\n",
    "    # 重构损失：通常使用二元交叉熵（BCE）损失\n",
    "    MSE = nn.functional.mse_loss(recon_x.view(-1, 32*32), x.view(-1, 32*32), reduction='sum')\n",
    "    # KL 散度损失：用于度量学到的潜在分布与标准正态分布之间的差异\n",
    "    KLD = -0.5 * torch.sum(1 + log_var - mu.pow(2) - log_var.exp())\n",
    "    loss = MSE + KLD\n",
    "    return loss, np.array([loss.item(), MSE.item(), KLD.item()])\n",
    "\n",
    "\n",
    "class DatasetType(Enum):\n",
    "    cifar10 = 'cifar10'\n",
    "    mnist = 'mnist'\n",
    "    fashion_mnist = 'fashion_mnist'\n",
    "    svhn = 'svhn'\n",
    "    celeba = 'celeba'"
   ],
   "metadata": {
    "collapsed": false,
    "ExecuteTime": {
     "end_time": "2023-12-22T07:14:09.108724294Z",
     "start_time": "2023-12-22T07:14:09.093516425Z"
    }
   },
   "id": "af666a961c0394a2"
  },
  {
   "cell_type": "markdown",
   "source": [
    "### 三、模型训练"
   ],
   "metadata": {
    "collapsed": false
   },
   "id": "65d4913130386dd5"
  },
  {
   "cell_type": "code",
   "execution_count": 18,
   "outputs": [
    {
     "data": {
      "text/plain": "device(type='cuda')"
     },
     "execution_count": 18,
     "metadata": {},
     "output_type": "execute_result"
    }
   ],
   "source": [
    "# 查看可用的训练设备\n",
    "device = torch.device('cuda') if torch.cuda.is_available() else torch.device('cpu')\n",
    "device"
   ],
   "metadata": {
    "collapsed": false,
    "ExecuteTime": {
     "end_time": "2023-12-22T07:14:10.093707225Z",
     "start_time": "2023-12-22T07:14:10.090603544Z"
    }
   },
   "id": "abc0a7f1ce1a10a0"
  },
  {
   "cell_type": "markdown",
   "source": [
    "#### 指定你自己的训练参数，配置数据集"
   ],
   "metadata": {
    "collapsed": false
   },
   "id": "3782716150fcd4eb"
  },
  {
   "cell_type": "code",
   "execution_count": 19,
   "outputs": [],
   "source": [
    "# ----------------------- 训练配置 ----------------------- \n",
    "batch_size = 128\n",
    "epochs = 50\n",
    "potential_dim = 8\n",
    "lr = 0.001\n",
    "# 这里支持DatasetType中除了celebA数据集之外的所有数据集的训练，因为他在处理标签的方式有略微不同\n",
    "dataset_type = DatasetType.mnist  # 在这里设置你的数据集\n",
    "# ------------------------------------------------------- "
   ],
   "metadata": {
    "collapsed": false,
    "ExecuteTime": {
     "end_time": "2023-12-22T07:14:10.537127346Z",
     "start_time": "2023-12-22T07:14:10.534301683Z"
    }
   },
   "id": "34b15611c2f36b24"
  },
  {
   "cell_type": "code",
   "execution_count": 20,
   "outputs": [],
   "source": [
    "# 其他参数\n",
    "MODEL_PATH = f'models/cvae_{dataset_type.value}.pth'\n",
    "os.makedirs('history', exist_ok=True)\n",
    "HISTORY_PATH = f'history/cvae_{dataset_type.value}_history.npy'\n",
    "CHANNELS = 1 if dataset_type in [DatasetType.mnist, DatasetType.fashion_mnist] else 3\n",
    "\n",
    "# 模型和优化器\n",
    "vae = ConditionalConvVAE(potential_dim=potential_dim, channels=CHANNELS)\n",
    "vae.to(device)\n",
    "\n",
    "running_losses = []\n",
    "if os.path.exists(MODEL_PATH):\n",
    "    try:\n",
    "        vae.load_state_dict(torch.load(MODEL_PATH))  # 加载模型\n",
    "        running_losses = list(np.load(HISTORY_PATH)) if os.path.exists(HISTORY_PATH) else []  # 加载训练历史\n",
    "    except RuntimeError:  # 在加载模型上遇到错误\n",
    "        pass\n",
    "    \n",
    "    \n",
    "def generate_and_record_images(step):\n",
    "    z = torch.randn(10, vae.potential_dim).to(device)\n",
    "    with torch.no_grad():\n",
    "        labels = torch.LongTensor(np.arange(10)).to(device)\n",
    "        # 通过解码器生成图像\n",
    "        generated_images = vae.decode(z, labels)  # (10, 1, 28, 28)\n",
    "        for i, image in enumerate(generated_images):\n",
    "            if image.shape[0] == 1:\n",
    "                image = image.repeat(3, 1, 1)\n",
    "            writer.add_image('Generated Image', image, global_step=10 * step + i)"
   ],
   "metadata": {
    "collapsed": false,
    "ExecuteTime": {
     "end_time": "2023-12-22T07:14:11.060073225Z",
     "start_time": "2023-12-22T07:14:11.037606378Z"
    }
   },
   "id": "f2b0207b5cc271b1"
  },
  {
   "cell_type": "code",
   "execution_count": 21,
   "outputs": [
    {
     "name": "stderr",
     "output_type": "stream",
     "text": [
      " 28%|██▊       | 14/50 [01:25<03:40,  6.13s/it, KLDLoss=763.577, MSELoss=2426.571, progress=59.06%, totalLoss=3190.149] \n"
     ]
    },
    {
     "ename": "KeyboardInterrupt",
     "evalue": "",
     "output_type": "error",
     "traceback": [
      "\u001B[0;31m---------------------------------------------------------------------------\u001B[0m",
      "\u001B[0;31mKeyboardInterrupt\u001B[0m                         Traceback (most recent call last)",
      "Cell \u001B[0;32mIn[21], line 26\u001B[0m\n\u001B[1;32m     24\u001B[0m \u001B[38;5;28;01mfor\u001B[39;00m epoch \u001B[38;5;129;01min\u001B[39;00m p_bar:\n\u001B[1;32m     25\u001B[0m     running_loss \u001B[38;5;241m=\u001B[39m np\u001B[38;5;241m.\u001B[39marray([\u001B[38;5;241m0.\u001B[39m, \u001B[38;5;241m0.\u001B[39m, \u001B[38;5;241m0.\u001B[39m])\n\u001B[0;32m---> 26\u001B[0m \u001B[43m    \u001B[49m\u001B[38;5;28;43;01mfor\u001B[39;49;00m\u001B[43m \u001B[49m\u001B[43mbatch_idx\u001B[49m\u001B[43m,\u001B[49m\u001B[43m \u001B[49m\u001B[43m(\u001B[49m\u001B[43mdata\u001B[49m\u001B[43m,\u001B[49m\u001B[43m \u001B[49m\u001B[43mlabels\u001B[49m\u001B[43m)\u001B[49m\u001B[43m \u001B[49m\u001B[38;5;129;43;01min\u001B[39;49;00m\u001B[43m \u001B[49m\u001B[38;5;28;43menumerate\u001B[39;49m\u001B[43m(\u001B[49m\u001B[43mtrain_loader\u001B[49m\u001B[43m)\u001B[49m\u001B[43m:\u001B[49m\n\u001B[1;32m     27\u001B[0m \u001B[43m        \u001B[49m\u001B[43mdata\u001B[49m\u001B[43m,\u001B[49m\u001B[43m \u001B[49m\u001B[43mlabels\u001B[49m\u001B[43m \u001B[49m\u001B[38;5;241;43m=\u001B[39;49m\u001B[43m \u001B[49m\u001B[43mdata\u001B[49m\u001B[38;5;241;43m.\u001B[39;49m\u001B[43mto\u001B[49m\u001B[43m(\u001B[49m\u001B[43mdevice\u001B[49m\u001B[43m)\u001B[49m\u001B[43m,\u001B[49m\u001B[43m \u001B[49m\u001B[43mlabels\u001B[49m\u001B[38;5;241;43m.\u001B[39;49m\u001B[43mto\u001B[49m\u001B[43m(\u001B[49m\u001B[43mdevice\u001B[49m\u001B[43m)\u001B[49m\n\u001B[1;32m     28\u001B[0m \u001B[43m        \u001B[49m\u001B[43moptimizer\u001B[49m\u001B[38;5;241;43m.\u001B[39;49m\u001B[43mzero_grad\u001B[49m\u001B[43m(\u001B[49m\u001B[43m)\u001B[49m\n",
      "File \u001B[0;32m~/Documents/PycharmProjects/GenerativeModels/venv/lib/python3.11/site-packages/torch/utils/data/dataloader.py:630\u001B[0m, in \u001B[0;36m_BaseDataLoaderIter.__next__\u001B[0;34m(self)\u001B[0m\n\u001B[1;32m    627\u001B[0m \u001B[38;5;28;01mif\u001B[39;00m \u001B[38;5;28mself\u001B[39m\u001B[38;5;241m.\u001B[39m_sampler_iter \u001B[38;5;129;01mis\u001B[39;00m \u001B[38;5;28;01mNone\u001B[39;00m:\n\u001B[1;32m    628\u001B[0m     \u001B[38;5;66;03m# TODO(https://github.com/pytorch/pytorch/issues/76750)\u001B[39;00m\n\u001B[1;32m    629\u001B[0m     \u001B[38;5;28mself\u001B[39m\u001B[38;5;241m.\u001B[39m_reset()  \u001B[38;5;66;03m# type: ignore[call-arg]\u001B[39;00m\n\u001B[0;32m--> 630\u001B[0m data \u001B[38;5;241m=\u001B[39m \u001B[38;5;28;43mself\u001B[39;49m\u001B[38;5;241;43m.\u001B[39;49m\u001B[43m_next_data\u001B[49m\u001B[43m(\u001B[49m\u001B[43m)\u001B[49m\n\u001B[1;32m    631\u001B[0m \u001B[38;5;28mself\u001B[39m\u001B[38;5;241m.\u001B[39m_num_yielded \u001B[38;5;241m+\u001B[39m\u001B[38;5;241m=\u001B[39m \u001B[38;5;241m1\u001B[39m\n\u001B[1;32m    632\u001B[0m \u001B[38;5;28;01mif\u001B[39;00m \u001B[38;5;28mself\u001B[39m\u001B[38;5;241m.\u001B[39m_dataset_kind \u001B[38;5;241m==\u001B[39m _DatasetKind\u001B[38;5;241m.\u001B[39mIterable \u001B[38;5;129;01mand\u001B[39;00m \\\n\u001B[1;32m    633\u001B[0m         \u001B[38;5;28mself\u001B[39m\u001B[38;5;241m.\u001B[39m_IterableDataset_len_called \u001B[38;5;129;01mis\u001B[39;00m \u001B[38;5;129;01mnot\u001B[39;00m \u001B[38;5;28;01mNone\u001B[39;00m \u001B[38;5;129;01mand\u001B[39;00m \\\n\u001B[1;32m    634\u001B[0m         \u001B[38;5;28mself\u001B[39m\u001B[38;5;241m.\u001B[39m_num_yielded \u001B[38;5;241m>\u001B[39m \u001B[38;5;28mself\u001B[39m\u001B[38;5;241m.\u001B[39m_IterableDataset_len_called:\n",
      "File \u001B[0;32m~/Documents/PycharmProjects/GenerativeModels/venv/lib/python3.11/site-packages/torch/utils/data/dataloader.py:674\u001B[0m, in \u001B[0;36m_SingleProcessDataLoaderIter._next_data\u001B[0;34m(self)\u001B[0m\n\u001B[1;32m    672\u001B[0m \u001B[38;5;28;01mdef\u001B[39;00m \u001B[38;5;21m_next_data\u001B[39m(\u001B[38;5;28mself\u001B[39m):\n\u001B[1;32m    673\u001B[0m     index \u001B[38;5;241m=\u001B[39m \u001B[38;5;28mself\u001B[39m\u001B[38;5;241m.\u001B[39m_next_index()  \u001B[38;5;66;03m# may raise StopIteration\u001B[39;00m\n\u001B[0;32m--> 674\u001B[0m     data \u001B[38;5;241m=\u001B[39m \u001B[38;5;28;43mself\u001B[39;49m\u001B[38;5;241;43m.\u001B[39;49m\u001B[43m_dataset_fetcher\u001B[49m\u001B[38;5;241;43m.\u001B[39;49m\u001B[43mfetch\u001B[49m\u001B[43m(\u001B[49m\u001B[43mindex\u001B[49m\u001B[43m)\u001B[49m  \u001B[38;5;66;03m# may raise StopIteration\u001B[39;00m\n\u001B[1;32m    675\u001B[0m     \u001B[38;5;28;01mif\u001B[39;00m \u001B[38;5;28mself\u001B[39m\u001B[38;5;241m.\u001B[39m_pin_memory:\n\u001B[1;32m    676\u001B[0m         data \u001B[38;5;241m=\u001B[39m _utils\u001B[38;5;241m.\u001B[39mpin_memory\u001B[38;5;241m.\u001B[39mpin_memory(data, \u001B[38;5;28mself\u001B[39m\u001B[38;5;241m.\u001B[39m_pin_memory_device)\n",
      "File \u001B[0;32m~/Documents/PycharmProjects/GenerativeModels/venv/lib/python3.11/site-packages/torch/utils/data/_utils/fetch.py:51\u001B[0m, in \u001B[0;36m_MapDatasetFetcher.fetch\u001B[0;34m(self, possibly_batched_index)\u001B[0m\n\u001B[1;32m     49\u001B[0m         data \u001B[38;5;241m=\u001B[39m \u001B[38;5;28mself\u001B[39m\u001B[38;5;241m.\u001B[39mdataset\u001B[38;5;241m.\u001B[39m__getitems__(possibly_batched_index)\n\u001B[1;32m     50\u001B[0m     \u001B[38;5;28;01melse\u001B[39;00m:\n\u001B[0;32m---> 51\u001B[0m         data \u001B[38;5;241m=\u001B[39m \u001B[43m[\u001B[49m\u001B[38;5;28;43mself\u001B[39;49m\u001B[38;5;241;43m.\u001B[39;49m\u001B[43mdataset\u001B[49m\u001B[43m[\u001B[49m\u001B[43midx\u001B[49m\u001B[43m]\u001B[49m\u001B[43m \u001B[49m\u001B[38;5;28;43;01mfor\u001B[39;49;00m\u001B[43m \u001B[49m\u001B[43midx\u001B[49m\u001B[43m \u001B[49m\u001B[38;5;129;43;01min\u001B[39;49;00m\u001B[43m \u001B[49m\u001B[43mpossibly_batched_index\u001B[49m\u001B[43m]\u001B[49m\n\u001B[1;32m     52\u001B[0m \u001B[38;5;28;01melse\u001B[39;00m:\n\u001B[1;32m     53\u001B[0m     data \u001B[38;5;241m=\u001B[39m \u001B[38;5;28mself\u001B[39m\u001B[38;5;241m.\u001B[39mdataset[possibly_batched_index]\n",
      "File \u001B[0;32m~/Documents/PycharmProjects/GenerativeModels/venv/lib/python3.11/site-packages/torch/utils/data/_utils/fetch.py:51\u001B[0m, in \u001B[0;36m<listcomp>\u001B[0;34m(.0)\u001B[0m\n\u001B[1;32m     49\u001B[0m         data \u001B[38;5;241m=\u001B[39m \u001B[38;5;28mself\u001B[39m\u001B[38;5;241m.\u001B[39mdataset\u001B[38;5;241m.\u001B[39m__getitems__(possibly_batched_index)\n\u001B[1;32m     50\u001B[0m     \u001B[38;5;28;01melse\u001B[39;00m:\n\u001B[0;32m---> 51\u001B[0m         data \u001B[38;5;241m=\u001B[39m [\u001B[38;5;28;43mself\u001B[39;49m\u001B[38;5;241;43m.\u001B[39;49m\u001B[43mdataset\u001B[49m\u001B[43m[\u001B[49m\u001B[43midx\u001B[49m\u001B[43m]\u001B[49m \u001B[38;5;28;01mfor\u001B[39;00m idx \u001B[38;5;129;01min\u001B[39;00m possibly_batched_index]\n\u001B[1;32m     52\u001B[0m \u001B[38;5;28;01melse\u001B[39;00m:\n\u001B[1;32m     53\u001B[0m     data \u001B[38;5;241m=\u001B[39m \u001B[38;5;28mself\u001B[39m\u001B[38;5;241m.\u001B[39mdataset[possibly_batched_index]\n",
      "File \u001B[0;32m~/Documents/PycharmProjects/GenerativeModels/venv/lib/python3.11/site-packages/torchvision/datasets/mnist.py:145\u001B[0m, in \u001B[0;36mMNIST.__getitem__\u001B[0;34m(self, index)\u001B[0m\n\u001B[1;32m    142\u001B[0m img \u001B[38;5;241m=\u001B[39m Image\u001B[38;5;241m.\u001B[39mfromarray(img\u001B[38;5;241m.\u001B[39mnumpy(), mode\u001B[38;5;241m=\u001B[39m\u001B[38;5;124m\"\u001B[39m\u001B[38;5;124mL\u001B[39m\u001B[38;5;124m\"\u001B[39m)\n\u001B[1;32m    144\u001B[0m \u001B[38;5;28;01mif\u001B[39;00m \u001B[38;5;28mself\u001B[39m\u001B[38;5;241m.\u001B[39mtransform \u001B[38;5;129;01mis\u001B[39;00m \u001B[38;5;129;01mnot\u001B[39;00m \u001B[38;5;28;01mNone\u001B[39;00m:\n\u001B[0;32m--> 145\u001B[0m     img \u001B[38;5;241m=\u001B[39m \u001B[38;5;28;43mself\u001B[39;49m\u001B[38;5;241;43m.\u001B[39;49m\u001B[43mtransform\u001B[49m\u001B[43m(\u001B[49m\u001B[43mimg\u001B[49m\u001B[43m)\u001B[49m\n\u001B[1;32m    147\u001B[0m \u001B[38;5;28;01mif\u001B[39;00m \u001B[38;5;28mself\u001B[39m\u001B[38;5;241m.\u001B[39mtarget_transform \u001B[38;5;129;01mis\u001B[39;00m \u001B[38;5;129;01mnot\u001B[39;00m \u001B[38;5;28;01mNone\u001B[39;00m:\n\u001B[1;32m    148\u001B[0m     target \u001B[38;5;241m=\u001B[39m \u001B[38;5;28mself\u001B[39m\u001B[38;5;241m.\u001B[39mtarget_transform(target)\n",
      "File \u001B[0;32m~/Documents/PycharmProjects/GenerativeModels/venv/lib/python3.11/site-packages/torchvision/transforms/transforms.py:95\u001B[0m, in \u001B[0;36mCompose.__call__\u001B[0;34m(self, img)\u001B[0m\n\u001B[1;32m     93\u001B[0m \u001B[38;5;28;01mdef\u001B[39;00m \u001B[38;5;21m__call__\u001B[39m(\u001B[38;5;28mself\u001B[39m, img):\n\u001B[1;32m     94\u001B[0m     \u001B[38;5;28;01mfor\u001B[39;00m t \u001B[38;5;129;01min\u001B[39;00m \u001B[38;5;28mself\u001B[39m\u001B[38;5;241m.\u001B[39mtransforms:\n\u001B[0;32m---> 95\u001B[0m         img \u001B[38;5;241m=\u001B[39m \u001B[43mt\u001B[49m\u001B[43m(\u001B[49m\u001B[43mimg\u001B[49m\u001B[43m)\u001B[49m\n\u001B[1;32m     96\u001B[0m     \u001B[38;5;28;01mreturn\u001B[39;00m img\n",
      "\u001B[0;31mKeyboardInterrupt\u001B[0m: "
     ]
    }
   ],
   "source": [
    "# 模型训练\n",
    "\n",
    "transform = transforms.Compose([\n",
    "    transforms.Resize((32, 32)),\n",
    "    transforms.ToTensor(),\n",
    "])\n",
    "\n",
    "# 加载数据集\n",
    "if dataset_type == DatasetType.mnist:\n",
    "    train_dataset = torchvision.datasets.MNIST(root='./data', train=True, download=True, transform=transform)\n",
    "elif dataset_type == DatasetType.cifar10:\n",
    "    train_dataset = torchvision.datasets.CIFAR10(root='./data', train=True, download=True, transform=transform)\n",
    "elif dataset_type == DatasetType.fashion_mnist:\n",
    "    train_dataset = torchvision.datasets.FashionMNIST(root='./data', train=True, download=True, transform=transform)\n",
    "elif dataset_type == DatasetType.svhn:\n",
    "    train_dataset = torchvision.datasets.SVHN(root='./data', split='train', download=True, transform=transform)\n",
    "else:\n",
    "    raise NotImplementedError\n",
    "\n",
    "optimizer = optim.Adam(vae.parameters(), lr=lr)\n",
    "\n",
    "train_loader = DataLoader(train_dataset, batch_size=batch_size, shuffle=True)\n",
    "\n",
    "writer = SummaryWriter('runs/GAN_experiment')\n",
    "\n",
    "p_bar = tqdm(range(epochs))\n",
    "\n",
    "# 开始训练\n",
    "for epoch in p_bar:\n",
    "    running_loss = np.array([0., 0., 0.])\n",
    "    for batch_idx, (data, labels) in enumerate(train_loader):\n",
    "        data, labels = data.to(device), labels.to(device)\n",
    "        optimizer.zero_grad()\n",
    "        recon_batch, mu, log_var = vae(data, labels)\n",
    "        loss, losses = vae_loss(recon_batch, data, mu, log_var)\n",
    "        loss.backward()\n",
    "        \n",
    "        optimizer.step()\n",
    "        running_loss += 1/(batch_idx + 1) * (losses - running_loss)\n",
    "        p_bar.set_postfix(progress=f'{(batch_idx+1)/len(train_loader)*100:.2f}%', totalLoss=f'{running_loss[0]:.3f}', MSELoss=f'{running_loss[1]:.3f}', KLDLoss=f'{running_loss[2]:.3f}')\n",
    "        \n",
    "    writer.add_scalar('Loss/total', running_loss[0], epoch)\n",
    "    writer.add_scalar('Loss/mse', running_loss[1], epoch)\n",
    "    writer.add_scalar('Loss/kld', running_loss[2], epoch)\n",
    "    generate_and_record_images(epoch)\n",
    "    running_losses.append(running_loss)\n",
    "    np.save(HISTORY_PATH, np.array(running_losses))\n",
    "    torch.save(vae.state_dict(), MODEL_PATH)"
   ],
   "metadata": {
    "collapsed": false,
    "ExecuteTime": {
     "start_time": "2023-12-22T07:14:11.674292213Z"
    }
   },
   "id": "40bfc4b3514fcfc7"
  },
  {
   "cell_type": "markdown",
   "source": [
    "### 四、绘制损失曲线"
   ],
   "metadata": {
    "collapsed": false
   },
   "id": "19946a749e192071"
  },
  {
   "cell_type": "code",
   "execution_count": 22,
   "outputs": [
    {
     "name": "stdout",
     "output_type": "stream",
     "text": [
      "[3195.81214967 2433.71324304  762.09890871]\n"
     ]
    },
    {
     "data": {
      "text/plain": "<Figure size 1200x500 with 1 Axes>",
      "image/png": "[encoded data removed]"
     },
     "metadata": {},
     "output_type": "display_data"
    }
   ],
   "source": [
    "plt.figure(figsize=(12, 5))\n",
    "total_loss, bce_loss, kld_loss = np.array(running_losses).T\n",
    "# 绘制损失\n",
    "plt.subplot(1, 2, 1)\n",
    "plt.plot(total_loss, label='Training Loss')\n",
    "plt.plot(bce_loss, label='Training MSE Loss')\n",
    "plt.plot(kld_loss, label='Training KLD Loss')\n",
    "plt.title('Training Loss')\n",
    "plt.xlabel('Epoch')\n",
    "plt.ylabel('Loss')\n",
    "plt.legend()\n",
    "print(running_losses[-1])"
   ],
   "metadata": {
    "collapsed": false,
    "ExecuteTime": {
     "end_time": "2023-12-22T07:15:40.070260201Z",
     "start_time": "2023-12-22T07:15:39.986812322Z"
    }
   },
   "id": "1699851aa99d4bb1"
  },
  {
   "cell_type": "markdown",
   "source": [
    "### 五、模型推理"
   ],
   "metadata": {
    "collapsed": false
   },
   "id": "2bc799e8bfdefb15"
  },
  {
   "cell_type": "code",
   "execution_count": 7,
   "outputs": [],
   "source": [
    "def generate(model, labels, device='cuda'):\n",
    "    with torch.no_grad():\n",
    "        num_samples = len(labels)\n",
    "        z = torch.randn(num_samples, model.potential_dim).to(device)\n",
    "        labels = torch.LongTensor(np.array(labels)).to(device)\n",
    "        # 通过解码器生成图像\n",
    "        generated_images = model.decode(z, labels)\n",
    "    return generated_images\n",
    "\n",
    "def plot(images):\n",
    "    plt.figure(figsize=(8, 8))\n",
    "    channels = images.size(1)\n",
    "    for i, image in enumerate(images):\n",
    "        plt.subplot(8, 8, i+1)\n",
    "        img = image.squeeze().cpu().numpy()\n",
    "        if channels == 3:\n",
    "            img = np.transpose(img, (2, 1, 0))\n",
    "            \n",
    "        plt.imshow(img, cmap='gray' if channels == 1 else None)\n",
    "        plt.axis('off')\n",
    "    plt.show()"
   ],
   "metadata": {
    "collapsed": false,
    "ExecuteTime": {
     "end_time": "2023-12-22T04:41:42.954067920Z",
     "start_time": "2023-12-22T04:41:42.946358595Z"
    }
   },
   "id": "da4d744a206be50"
  },
  {
   "cell_type": "markdown",
   "source": [],
   "metadata": {
    "collapsed": false
   },
   "id": "4568469695623264"
  },
  {
   "cell_type": "code",
   "execution_count": 15,
   "outputs": [
    {
     "data": {
      "text/plain": "<Figure size 800x800 with 10 Axes>",
      "image/png": "[encoded data removed]"
     },
     "metadata": {},
     "output_type": "display_data"
    }
   ],
   "source": [
    "images = generate(vae, list(range(10)), device)\n",
    "plot(images)"
   ],
   "metadata": {
    "collapsed": false,
    "ExecuteTime": {
     "end_time": "2023-12-22T04:42:08.076331158Z",
     "start_time": "2023-12-22T04:42:07.983593454Z"
    }
   },
   "id": "3d902abedadee65d"
  },
  {
   "cell_type": "markdown",
   "source": [
    "### 附加题1：条件生成网络与普通生成网络比较分析\n",
    "\n",
    "#### 实验设置\n",
    "使用相同的数据集比如`CIFAR-10`，训练一个CVAE模型和一个普通VAE模型。\n",
    "\n",
    "#### 比较分析\n",
    "1. **生成图像的质量**：比较两种模型生成的图像质量。通常，条件生成模型（CVAE）因为有额外的信息（如类别标签），可能会生成更清晰、更准确的图像。\n",
    "\n",
    "2. **多样性和创新性**：分析两种模型生成图像的多样性。无条件模型可能在多样性方面表现更好，因为它不受任何条件的限制。\n",
    "\n",
    "3. **学习的特征和模式**：研究两种模型学习的特征和模式。条件模型可能会学习到与特定条件（如类别）更相关的特征。"
   ],
   "metadata": {
    "collapsed": false
   },
   "id": "c8307c62163954c0"
  },
  {
   "cell_type": "markdown",
   "source": [
    "### 附加题2：思考并定义一个图像生成问题，通过调研目前存在的方法和策略，设计相应的解决方法，并分析方法的可行性以及创新性。\n",
    "### 问题定义：生成特定风格的服装设计图像\n",
    "\n",
    "#### 目标\n",
    "开发一个生成模型，能够根据文本描述（如风格、颜色、款式等）生成相应的服装设计图像。这种模型可以帮助设计师快速实现创意，并为非专业人士提供一种定制服装设计的工具。\n",
    "\n",
    "#### 应用场景\n",
    "- 服装设计师可以使用它来快速原型化和迭代设计想法。\n",
    "- 电子商务平台可以提供个性化的服装设计服务。\n",
    "- 时尚爱好者可以用它来探索和创建自己的服装风格。\n",
    "\n",
    "### 方法设计\n",
    "\n",
    "#### 1. 模型架构\n",
    "- **文本编码器**：使用Transformer Encoder或BERT-like模型对输入的文本进行编码。这些模型能够理解文本中的复杂语义和上下文信息。\n",
    "- **图像生成器**：使用条件生成对抗网络（Conditional GAN）或变分自动编码器（VAE）。这里的条件是从文本编码器得到的上下文向量。\n",
    "\n",
    "#### 2. 数据集准备\n",
    "- **收集数据**：获取大量的服装图像及其描述。可以从在线时尚网站、服装目录或社交媒体平台收集数据。\n",
    "- **数据注释**：为每张图像添加详细的文本描述，包括风格、颜色、材料等信息。\n",
    "\n",
    "#### 3. 训练流程\n",
    "- **联合训练**：同时训练文本编码器和图像生成器，使得模型能够理解文本描述与生成图像之间的关联。\n",
    "- **损失函数**：对于生成器，使用生成对抗网络的判别器损失，以及适用于图像生成的其他损失（如像素级损失）。\n",
    "\n",
    "#### 4. 模型优化\n",
    "- **文本编码器优化**：考虑使用预训练的NLP模型以提高文本理解能力。\n",
    "- **图像质量优化**：考虑使用更复杂的图像生成网络，如StyleGAN，以提高生成图像的质量和实用性。\n",
    "\n",
    "#### 5. 用户界面\n",
    "- **交互设计**：开发一个用户友好的界面，让用户输入文本描述并查看生成的服装图像。\n",
    "- **实时反馈**：允许用户调整描述，以实时看到修改后的生成图像。\n",
    "\n",
    "### 可行性与创新性分析\n",
    "\n",
    "#### 可行性\n",
    "- **技术成熟度**：文本到图像的生成技术已经在多个领域取得了显著进展，说明这种方法在技术上是可行的。\n",
    "- **数据可获得性**：互联网上有大量的服装图像和描述，使得构建数据集成为可能。\n",
    "\n",
    "#### 创新性\n",
    "- **个性化设计**：这种方法可以根据用户的具体描述生成个性化的服装设计，提供高度定制化的体验。\n",
    "- **设计灵感工具**：该模型可以作为一个创意工具，帮助设计师快速将想法转化为可视化设计。\n",
    "\n",
    "#### 挑战\n",
    "- **文本到图像的准确性**：确保文本描述准确转化为视觉元素是一个挑战。\n",
    "- **图像质量**：生成高质量、真实感强的图像仍然是一大挑战。"
   ],
   "metadata": {
    "collapsed": false
   },
   "id": "164bda87f969682e"
  },
  {
   "cell_type": "code",
   "execution_count": null,
   "outputs": [],
   "source": [],
   "metadata": {
    "collapsed": false
   },
   "id": "12da906c75ec044a"
  }
 ],
 "metadata": {
  "kernelspec": {
   "display_name": "Python 3",
   "language": "python",
   "name": "python3"
  },
  "language_info": {
   "codemirror_mode": {
    "name": "ipython",
    "version": 2
   },
   "file_extension": ".py",
   "mimetype": "text/x-python",
   "name": "python",
   "nbconvert_exporter": "python",
   "pygments_lexer": "ipython2",
   "version": "2.7.6"
  }
 },
 "nbformat": 4,
 "nbformat_minor": 5
}
